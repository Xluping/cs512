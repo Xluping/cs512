{
 "cells": [
  {
   "cell_type": "markdown",
   "metadata": {},
   "source": [
    "# RUSSI SINHA\n",
    "# A20411286\n",
    "# CS 512 - Computer Vision\n",
    "# Fall 2018"
   ]
  },
  {
   "cell_type": "code",
   "execution_count": 1,
   "metadata": {},
   "outputs": [
    {
     "name": "stdout",
     "output_type": "stream",
     "text": [
      "2*A-B =  [[-2]\n",
      " [-1]\n",
      " [ 0]]\n"
     ]
    }
   ],
   "source": [
    "import numpy as np\n",
    "\n",
    "A = np.array([[1,2,3]]).T\n",
    "B = np.array([[4,5,6]]).T\n",
    "C = np.array([[-1,1,3]]).T\n",
    "print '2*A-B = ', 2*A-B"
   ]
  },
  {
   "cell_type": "code",
   "execution_count": 2,
   "metadata": {},
   "outputs": [
    {
     "name": "stdout",
     "output_type": "stream",
     "text": [
      "||A|| =  3.7416573867739413\n",
      "angle of A =  74.4986404331\n"
     ]
    }
   ],
   "source": [
    "import math\n",
    "\n",
    "norm_A = np.linalg.norm(A)\n",
    "print '||A|| = ', norm_A\n",
    "angle_A = math.degrees(np.arccos(1/norm_A))\n",
    "print 'angle of A = ', angle_A"
   ]
  },
  {
   "cell_type": "code",
   "execution_count": 3,
   "metadata": {},
   "outputs": [
    {
     "name": "stdout",
     "output_type": "stream",
     "text": [
      "A_cap =  [[0.26726124]\n",
      " [0.53452248]\n",
      " [0.80178373]]\n"
     ]
    }
   ],
   "source": [
    "A_cap = A/norm_A\n",
    "print 'A_cap = ', A_cap"
   ]
  },
  {
   "cell_type": "code",
   "execution_count": 4,
   "metadata": {},
   "outputs": [
    {
     "name": "stdout",
     "output_type": "stream",
     "text": [
      "cosine_alpha =  0.2672612419124244\n",
      "cosine_beta =  0.5345224838248488\n",
      "cosine_gamma =  0.8017837257372732\n"
     ]
    }
   ],
   "source": [
    "alpha = A[0][0]/norm_A\n",
    "print 'cosine_alpha = ', alpha\n",
    "\n",
    "beta = A[1][0]/norm_A\n",
    "print 'cosine_beta = ', beta\n",
    "\n",
    "gamma = A[2][0]/norm_A\n",
    "print 'cosine_gamma = ', gamma"
   ]
  },
  {
   "cell_type": "code",
   "execution_count": 5,
   "metadata": {},
   "outputs": [
    {
     "name": "stdout",
     "output_type": "stream",
     "text": [
      "A.B =  [[32]]\n",
      "B.A =  [[32]]\n"
     ]
    }
   ],
   "source": [
    "AdotB = np.dot(A.T,B)\n",
    "print 'A.B = ', AdotB\n",
    "\n",
    "BdotA = np.dot(B.T,A)\n",
    "print 'B.A = ', BdotA\n"
   ]
  },
  {
   "cell_type": "code",
   "execution_count": 6,
   "metadata": {},
   "outputs": [
    {
     "name": "stdout",
     "output_type": "stream",
     "text": [
      "Angle between A and B =  12.9331544919\n"
     ]
    }
   ],
   "source": [
    "norm_B = np.linalg.norm(B)\n",
    "\n",
    "angle_AB = math.degrees(np.arccos(AdotB/(norm_A*norm_B)))\n",
    "print 'Angle between A and B = ', angle_AB"
   ]
  },
  {
   "cell_type": "code",
   "execution_count": 7,
   "metadata": {},
   "outputs": [
    {
     "name": "stdout",
     "output_type": "stream",
     "text": [
      "Assuming X =  [[ 1]\n",
      " [ 1]\n",
      " [-1]]\n",
      "Angle between A and X =  90.0\n",
      "Therefore, vector X is perpendicular to A\n"
     ]
    }
   ],
   "source": [
    "X = np.array([[1,1,-1]]).T\n",
    "print 'Assuming X = ', X\n",
    "AdotX = np.dot(A.T, X)\n",
    "\n",
    "angle_AX = math.degrees(np.arccos(AdotX))\n",
    "print 'Angle between A and X = ', angle_AX\n",
    "print 'Therefore, vector X is perpendicular to A'"
   ]
  },
  {
   "cell_type": "code",
   "execution_count": 8,
   "metadata": {},
   "outputs": [
    {
     "name": "stdout",
     "output_type": "stream",
     "text": [
      "A X B =  [[-3  6 -3]]\n",
      "B X A =  [[ 3 -6  3]]\n"
     ]
    }
   ],
   "source": [
    "AcrossB = np.cross(A.T,B.T)\n",
    "print 'A X B = ', AcrossB\n",
    "\n",
    "BcrossA = np.cross(B.T,A.T)\n",
    "print 'B X A = ', BcrossA"
   ]
  },
  {
   "cell_type": "code",
   "execution_count": 9,
   "metadata": {},
   "outputs": [
    {
     "name": "stdout",
     "output_type": "stream",
     "text": [
      "A vector which is perpendicular to both A and B is A X B which is \n",
      "[[-3  6 -3]]\n"
     ]
    }
   ],
   "source": [
    "print 'A vector which is perpendicular to both A and B is A X B which is \\n', AcrossB"
   ]
  },
  {
   "cell_type": "code",
   "execution_count": 10,
   "metadata": {},
   "outputs": [
    {
     "name": "stdout",
     "output_type": "stream",
     "text": [
      "A(transpose)B =  [[32]]\n",
      "AB(transpose) =  [[ 4  5  6]\n",
      " [ 8 10 12]\n",
      " [12 15 18]]\n"
     ]
    }
   ],
   "source": [
    "print 'A(transpose)B = ', np.dot(A.T,B)\n",
    "\n",
    "print 'AB(transpose) = ', np.dot(A,B.T)"
   ]
  },
  {
   "cell_type": "code",
   "execution_count": 11,
   "metadata": {},
   "outputs": [
    {
     "name": "stdout",
     "output_type": "stream",
     "text": [
      "2A-B =  [[ 1  2  5]\n",
      " [ 6 -5 10]\n",
      " [-3 12 -3]]\n"
     ]
    }
   ],
   "source": [
    "A1 = np.matrix([[1,2,3],[4,-2,3],[0,5,-1]])\n",
    "B1 = np.matrix([[1,2,1],[2,1,-4],[3,-2,1]])\n",
    "C1 = np.matrix([[1,2,3],[4,5,6],[-1,1,3]])\n",
    "\n",
    "print '2A-B = ',2*A1-B1"
   ]
  },
  {
   "cell_type": "code",
   "execution_count": 12,
   "metadata": {},
   "outputs": [
    {
     "name": "stdout",
     "output_type": "stream",
     "text": [
      "AB =  [[ 14  -2  -4]\n",
      " [  9   0  15]\n",
      " [  7   7 -21]]\n",
      "BA =  [[  9   3   8]\n",
      " [  6 -18  13]\n",
      " [ -5  15   2]]\n"
     ]
    }
   ],
   "source": [
    "print 'AB = ', np.dot(A1,B1)\n",
    "print 'BA = ', np.dot(B1,A1)"
   ]
  },
  {
   "cell_type": "code",
   "execution_count": 13,
   "metadata": {},
   "outputs": [
    {
     "name": "stdout",
     "output_type": "stream",
     "text": [
      "(AB)transpose =  [[ 14   9   7]\n",
      " [ -2   0   7]\n",
      " [ -4  15 -21]]\n",
      "B(transpose)A(transpose) =  [[ 14   9   7]\n",
      " [ -2   0   7]\n",
      " [ -4  15 -21]]\n"
     ]
    }
   ],
   "source": [
    "print '(AB)transpose = ', (np.dot(A1,B1)).T\n",
    "\n",
    "print 'B(transpose)A(transpose) = ', np.dot(B1.T,A1.T)"
   ]
  },
  {
   "cell_type": "code",
   "execution_count": 14,
   "metadata": {},
   "outputs": [
    {
     "name": "stdout",
     "output_type": "stream",
     "text": [
      "|A| =  54.999999999999964\n",
      "|C| =  7.494005416219837e-16\n"
     ]
    }
   ],
   "source": [
    "det_A = np.linalg.det(A1)\n",
    "print '|A| = ', det_A\n",
    "\n",
    "det_C = np.linalg.det(C1)\n",
    "print '|C| = ', det_C"
   ]
  },
  {
   "cell_type": "code",
   "execution_count": 15,
   "metadata": {},
   "outputs": [
    {
     "name": "stdout",
     "output_type": "stream",
     "text": [
      "[[ 14   9   7]\n",
      " [  9  29 -13]\n",
      " [  7 -13  26]]\n",
      "[[ 6  0  0]\n",
      " [ 0 21  0]\n",
      " [ 0  0 14]]\n",
      "[[14 32 10]\n",
      " [32 77 19]\n",
      " [10 19 11]]\n",
      "B forms an orthogonal set\n"
     ]
    }
   ],
   "source": [
    "A_AT = np.dot(A1,A1.T)\n",
    "print(A_AT)\n",
    "\n",
    "B_BT = np.dot(B1,B1.T)\n",
    "print(B_BT)\n",
    "\n",
    "C_CT = np.dot(C1,C1.T)\n",
    "print(C_CT)\n",
    "\n",
    "print 'B forms an orthogonal set'"
   ]
  },
  {
   "cell_type": "code",
   "execution_count": 16,
   "metadata": {},
   "outputs": [
    {
     "name": "stdout",
     "output_type": "stream",
     "text": [
      "Inverse of A =  [[-0.23636364  0.30909091  0.21818182]\n",
      " [ 0.07272727 -0.01818182  0.16363636]\n",
      " [ 0.36363636 -0.09090909 -0.18181818]]\n",
      "Inverse of B =  [[ 0.16666667  0.0952381   0.21428571]\n",
      " [ 0.33333333  0.04761905 -0.14285714]\n",
      " [ 0.16666667 -0.19047619  0.07142857]]\n"
     ]
    }
   ],
   "source": [
    "A_inverse = np.linalg.inv(A1)\n",
    "print 'Inverse of A = ', A_inverse\n",
    "\n",
    "B_inverse = np.linalg.inv(B1)\n",
    "print 'Inverse of B = ', B_inverse"
   ]
  },
  {
   "cell_type": "code",
   "execution_count": 17,
   "metadata": {},
   "outputs": [
    {
     "name": "stdout",
     "output_type": "stream",
     "text": [
      "Eigenvalues of A =  [-1.  4.]\n",
      "Eigenvectors of A =  [[-0.70710678 -0.5547002 ]\n",
      " [ 0.70710678 -0.83205029]]\n"
     ]
    }
   ],
   "source": [
    "A2 = np.array([[1,2],[3,2]])\n",
    "B2 = np.array([[2,-2],[-2,5]])\n",
    "\n",
    "A_eig = np.linalg.eig(A2)\n",
    "A_eigvalues = A_eig[0]\n",
    "print 'Eigenvalues of A = ', A_eigvalues\n",
    "\n",
    "A_eigvectors = A_eig[1]\n",
    "print 'Eigenvectors of A = ', A_eigvectors"
   ]
  },
  {
   "cell_type": "code",
   "execution_count": 18,
   "metadata": {},
   "outputs": [
    {
     "name": "stdout",
     "output_type": "stream",
     "text": [
      "(V-inverse)(AV) =  [[-1.00000000e+00 -6.66133815e-16]\n",
      " [ 0.00000000e+00  4.00000000e+00]]\n"
     ]
    }
   ],
   "source": [
    "print '(V-inverse)(AV) = ', np.dot(np.linalg.inv(A_eigvectors), np.dot(A2, A_eigvectors))"
   ]
  },
  {
   "cell_type": "code",
   "execution_count": 19,
   "metadata": {},
   "outputs": [
    {
     "name": "stdout",
     "output_type": "stream",
     "text": [
      "Dot product of A_eigvectors =  -0.038461538461538214\n"
     ]
    }
   ],
   "source": [
    "A_eigvectors_dot = np.dot(A_eigvectors[0], A_eigvectors[1])\n",
    "print 'Dot product of A_eigvectors = ', A_eigvectors_dot"
   ]
  },
  {
   "cell_type": "code",
   "execution_count": 20,
   "metadata": {},
   "outputs": [
    {
     "name": "stdout",
     "output_type": "stream",
     "text": [
      "Dot product of B_eigvectors =  0.0\n"
     ]
    }
   ],
   "source": [
    "B_eig = np.linalg.eig(B2)\n",
    "B_eigvectors = B_eig[1]\n",
    "\n",
    "B_eigvectors_dot = np.dot(B_eigvectors[0], B_eigvectors[1])\n",
    "print 'Dot product of B_eigvectors = ', B_eigvectors_dot"
   ]
  }
 ],
 "metadata": {
  "kernelspec": {
   "display_name": "Python 2",
   "language": "python",
   "name": "python2"
  },
  "language_info": {
   "codemirror_mode": {
    "name": "ipython",
    "version": 2
   },
   "file_extension": ".py",
   "mimetype": "text/x-python",
   "name": "python",
   "nbconvert_exporter": "python",
   "pygments_lexer": "ipython2",
   "version": "2.7.15"
  }
 },
 "nbformat": 4,
 "nbformat_minor": 2
}
